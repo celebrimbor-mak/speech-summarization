{
 "cells": [
  {
   "cell_type": "code",
   "execution_count": null,
   "metadata": {
    "collapsed": true
   },
   "outputs": [],
   "source": [
    "'''\n",
    " * Code to normalize drugbank and pharmaGKB data\n",
    " *\n",
    " * @author  Arpit Mishra\n",
    " * @date    April 17\n",
    " * @since   Python 2.7.6\n",
    "'''"
   ]
  },
  {
   "cell_type": "code",
   "execution_count": 5,
   "metadata": {
    "collapsed": false,
    "deletable": true,
    "editable": true
   },
   "outputs": [],
   "source": [
    "# DrugBank data from the data team\n",
    "import json\n",
    "drugbank_dic = {}\n",
    "with open(\"drugbank_synonym_data.json\") as f:\n",
    "    for line in f:\n",
    "        try:\n",
    "            temp = json.loads(line)\n",
    "            synonyms = []\n",
    "            synonyms.append(temp['name'])\n",
    "            if temp['synonyms'] is not None:\n",
    "                if type(temp['synonyms']['synonym']) == list:\n",
    "                    for j in temp['synonyms']['synonym']:\n",
    "                        synonyms.append(j['#text'])\n",
    "                else:\n",
    "                    synonyms.append(temp['synonyms']['synonym']['#text'])\n",
    "            synonyms = [x.lower().strip() for x in synonyms]\n",
    "            if type(temp['drugbank-id']) == list:\n",
    "                _id = temp['drugbank-id'][0]['#text']\n",
    "            else:\n",
    "                _id = temp['drugbank-id']['#text']\n",
    "            drugbank_dic[_id] = {'synonyms':synonyms, 'name':temp['name'], 'drugbank_id':_id, '_key':_id}\n",
    "        except Exception as e:\n",
    "            print line\n",
    "            print e"
   ]
  },
  {
   "cell_type": "code",
   "execution_count": 9,
   "metadata": {
    "collapsed": false,
    "deletable": true,
    "editable": true
   },
   "outputs": [],
   "source": [
    "with open('drugbank_data_parsed.json', 'w') as f:\n",
    "    for dic in drugbank_dic:\n",
    "        f.write(json.dumps(drugbank_dic[dic])+'\\n')\n",
    "        "
   ]
  },
  {
   "cell_type": "code",
   "execution_count": 14,
   "metadata": {
    "collapsed": false,
    "deletable": true,
    "editable": true
   },
   "outputs": [],
   "source": [
    "# PharmaGKB data\n",
    "with open('pharmaGKB_data_parsed.json', 'w') as fw:\n",
    "    with open('pharmaGKB_synonym_data.json') as f:\n",
    "        for line in f:\n",
    "            temp = json.loads(line)\n",
    "            fw.write(json.dumps({\"pharmagkb_id\":temp['PharmGKB_Accession_Id'], '_key':temp['PharmGKB_Accession_Id'], 'name': temp['Name'], \"generic_names\":temp['Generic_Names'], \"trade_names\":temp['Trade_Names'],\"external_vocabulary\":temp['External_Vocabulary'] })+'\\n')\n",
    "        \n",
    "     \n",
    "        "
   ]
  }
 ],
 "metadata": {
  "kernelspec": {
   "display_name": "Python 2",
   "language": "python",
   "name": "python2"
  },
  "language_info": {
   "codemirror_mode": {
    "name": "ipython",
    "version": 2
   },
   "file_extension": ".py",
   "mimetype": "text/x-python",
   "name": "python",
   "nbconvert_exporter": "python",
   "pygments_lexer": "ipython2",
   "version": "2.7.6"
  }
 },
 "nbformat": 4,
 "nbformat_minor": 2
}
